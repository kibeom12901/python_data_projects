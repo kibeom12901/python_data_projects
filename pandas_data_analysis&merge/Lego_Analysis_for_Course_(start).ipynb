{
  "cells": [
    {
      "cell_type": "markdown",
      "metadata": {
        "colab_type": "text",
        "dc": {
          "key": "1d0b086e6c"
        },
        "id": "s9JLDE8NIquP",
        "run_control": {
          "frozen": true
        },
        "tags": [
          "context"
        ]
      },
      "source": [
        "# Introduction\n",
        "\n",
        "Today we'll dive deep into a dataset all about LEGO. From the dataset we can ask whole bunch of interesting questions about the history of the LEGO company, their product offering, and which LEGO set ultimately rules them all:\n",
        "\n",
        "<ul type=\"square\">\n",
        "<li>What is the most enormous LEGO set ever created and how many parts did it have?</li>\n",
        "\n",
        "<li>How did the LEGO company start out? In which year were the first LEGO sets released and how many sets did the company sell when it first launched?</li>\n",
        "\n",
        "<li>Which LEGO theme has the most sets? Is it one of LEGO's own themes like Ninjago or a theme they licensed liked Harry Potter or Marvel Superheroes?</li>\n",
        "\n",
        "<li>When did the LEGO company really expand its product offering? Can we spot a change in the company strategy based on how many themes and sets did it released year-on-year?</li>\n",
        "\n",
        "<li>Did LEGO sets grow in size and complexity over time? Do older LEGO \n",
        "sets tend to have more or fewer parts than newer sets?</li>\n",
        "</ul>\n",
        "\n",
        "**Data Source**\n",
        "\n",
        "[Rebrickable](https://rebrickable.com/downloads/) has compiled data on all the LEGO pieces in existence. I recommend you use download the .csv files provided in this lesson. "
      ]
    },
    {
      "cell_type": "markdown",
      "metadata": {
        "colab_type": "text",
        "id": "V0u2lGJuIquQ"
      },
      "source": [
        "# Import Statements"
      ]
    },
    {
      "cell_type": "code",
      "execution_count": 16,
      "metadata": {
        "colab": {},
        "colab_type": "code",
        "id": "z5Wk7rs-IquQ"
      },
      "outputs": [
        {
          "data": {
            "text/html": [
              "<img src=\"https://i.imgur.com/49FNOHj.jpg\"/>"
            ],
            "text/plain": [
              "<IPython.core.display.Image object>"
            ]
          },
          "metadata": {},
          "output_type": "display_data"
        }
      ],
      "source": [
        "from IPython.display import Image, display\n",
        "display(Image(url=\"https://i.imgur.com/49FNOHj.jpg\"))\n"
      ]
    },
    {
      "cell_type": "markdown",
      "metadata": {
        "colab_type": "text",
        "id": "R5NQpJ_KIquT"
      },
      "source": [
        "# Data Exploration"
      ]
    },
    {
      "cell_type": "markdown",
      "metadata": {
        "colab_type": "text",
        "dc": {
          "key": "044b2cef41"
        },
        "id": "ffaG-UFYIquT",
        "run_control": {
          "frozen": true
        },
        "tags": [
          "context"
        ]
      },
      "source": [
        "**Challenge**: How many different colours does the LEGO company produce? Read the colors.csv file in the data folder and find the total number of unique colours. Try using the [.nunique() method](https://pandas.pydata.org/pandas-docs/stable/reference/api/pandas.DataFrame.nunique.html?highlight=nunique#pandas.DataFrame.nunique) to accomplish this."
      ]
    },
    {
      "cell_type": "code",
      "execution_count": 27,
      "metadata": {
        "colab": {},
        "colab_type": "code",
        "id": "yd4G9pK7IquU"
      },
      "outputs": [
        {
          "name": "stdout",
          "output_type": "stream",
          "text": [
            "       id                          name     rgb is_trans\n",
            "0      -1                       Unknown  0033B2        f\n",
            "1       0                         Black  05131D        f\n",
            "2       1                          Blue  0055BF        f\n",
            "3       2                         Green  237841        f\n",
            "4       3                Dark Turquoise  008F9B        f\n",
            "..    ...                           ...     ...      ...\n",
            "130  1004  Trans Flame Yellowish Orange  FCB76D        t\n",
            "131  1005             Trans Fire Yellow  FBE890        t\n",
            "132  1006        Trans Light Royal Blue  B4D4F7        t\n",
            "133  1007                 Reddish Lilac  8E5597        f\n",
            "134  9999                    [No Color]  05131D        f\n",
            "\n",
            "[135 rows x 4 columns]\n",
            "Total unique colors: 135\n"
          ]
        }
      ],
      "source": [
        "import pandas as pd\n",
        "\n",
        "df = pd.read_csv(\"data/colors.csv\")\n",
        "print(df.head())\n",
        "\n",
        "# Count unique values in 'name' column\n",
        "unique_colors = df[\"name\"].nunique()\n",
        "\n",
        "print(f\"Total unique colors: {unique_colors}\")"
      ]
    },
    {
      "cell_type": "code",
      "execution_count": null,
      "metadata": {
        "colab": {},
        "colab_type": "code",
        "dc": {
          "key": "044b2cef41"
        },
        "id": "QmbAXax7IquW",
        "tags": [
          "sample_code"
        ]
      },
      "outputs": [],
      "source": [
        "\n",
        "\n"
      ]
    },
    {
      "cell_type": "code",
      "execution_count": null,
      "metadata": {
        "colab": {},
        "colab_type": "code",
        "dc": {
          "key": "15c1e2ce38"
        },
        "id": "SMc2sKiIIquY",
        "tags": [
          "sample_code"
        ]
      },
      "outputs": [],
      "source": []
    },
    {
      "cell_type": "markdown",
      "metadata": {
        "colab_type": "text",
        "dc": {
          "key": "a5723ae5c2"
        },
        "id": "PItRbqgcIqua",
        "run_control": {
          "frozen": true
        },
        "tags": [
          "context"
        ]
      },
      "source": [
        "**Challenge**: Find the number of transparent colours where <code>is_trans == 't'</code> versus the number of opaque colours where <code>is_trans == 'f'</code>. See if you can accomplish this in two different ways."
      ]
    },
    {
      "cell_type": "code",
      "execution_count": 28,
      "metadata": {
        "colab": {},
        "colab_type": "code",
        "id": "1UZrfq82Iqub"
      },
      "outputs": [
        {
          "data": {
            "text/html": [
              "<div>\n",
              "<style scoped>\n",
              "    .dataframe tbody tr th:only-of-type {\n",
              "        vertical-align: middle;\n",
              "    }\n",
              "\n",
              "    .dataframe tbody tr th {\n",
              "        vertical-align: top;\n",
              "    }\n",
              "\n",
              "    .dataframe thead th {\n",
              "        text-align: right;\n",
              "    }\n",
              "</style>\n",
              "<table border=\"1\" class=\"dataframe\">\n",
              "  <thead>\n",
              "    <tr style=\"text-align: right;\">\n",
              "      <th></th>\n",
              "      <th>id</th>\n",
              "      <th>name</th>\n",
              "      <th>rgb</th>\n",
              "    </tr>\n",
              "    <tr>\n",
              "      <th>is_trans</th>\n",
              "      <th></th>\n",
              "      <th></th>\n",
              "      <th></th>\n",
              "    </tr>\n",
              "  </thead>\n",
              "  <tbody>\n",
              "    <tr>\n",
              "      <th>f</th>\n",
              "      <td>107</td>\n",
              "      <td>107</td>\n",
              "      <td>107</td>\n",
              "    </tr>\n",
              "    <tr>\n",
              "      <th>t</th>\n",
              "      <td>28</td>\n",
              "      <td>28</td>\n",
              "      <td>28</td>\n",
              "    </tr>\n",
              "  </tbody>\n",
              "</table>\n",
              "</div>"
            ],
            "text/plain": [
              "           id  name  rgb\n",
              "is_trans                \n",
              "f         107   107  107\n",
              "t          28    28   28"
            ]
          },
          "execution_count": 28,
          "metadata": {},
          "output_type": "execute_result"
        }
      ],
      "source": [
        "df.groupby('is_trans').count()"
      ]
    },
    {
      "cell_type": "code",
      "execution_count": null,
      "metadata": {
        "colab": {},
        "colab_type": "code",
        "id": "KQFf-leCIqud"
      },
      "outputs": [],
      "source": []
    },
    {
      "cell_type": "markdown",
      "metadata": {
        "colab_type": "text",
        "id": "TMqdhUYcusfy"
      },
      "source": [
        "**Challenge**: Change this into an h3 section heading: Understanding LEGO Themes vs. LEGO Sets"
      ]
    },
    {
      "cell_type": "markdown",
      "metadata": {
        "colab_type": "text",
        "id": "y0kxCh63uwOv"
      },
      "source": [
        "Walk into a LEGO store and you will see their products organised by theme. Their themes include Star Wars, Batman, Harry Potter and many more.\n",
        "\n",
        "**Challenge**: Display this image: https://i.imgur.com/aKcwkSx.png"
      ]
    },
    {
      "cell_type": "markdown",
      "metadata": {
        "colab_type": "text",
        "dc": {
          "key": "c9d0e58653"
        },
        "id": "u_xkZUF8Iqug",
        "run_control": {
          "frozen": true
        },
        "tags": [
          "context"
        ]
      },
      "source": [
        "A lego set is a particular box of LEGO or product. Therefore, a single theme typically has many different sets.\n",
        "\n",
        "**Challenge**: Display this image https://i.imgur.com/whB1olq.png "
      ]
    },
    {
      "cell_type": "markdown",
      "metadata": {
        "colab_type": "text",
        "id": "jJTAROe5unkx"
      },
      "source": [
        "The <code>sets.csv</code> data contains a list of sets over the years and the number of parts that each of these sets contained.\n",
        "\n",
        "**Challenge**: Read the sets.csv data and take a look at the first and last couple of rows. "
      ]
    },
    {
      "cell_type": "code",
      "execution_count": 30,
      "metadata": {
        "colab": {},
        "colab_type": "code",
        "id": "vGMOv-NRIquh"
      },
      "outputs": [
        {
          "data": {
            "text/html": [
              "<img src=\"https://i.imgur.com/aKcwkSx.png\"/>"
            ],
            "text/plain": [
              "<IPython.core.display.Image object>"
            ]
          },
          "metadata": {},
          "output_type": "display_data"
        },
        {
          "data": {
            "text/html": [
              "<img src=\"https://i.imgur.com/whB1olq.png\"/>"
            ],
            "text/plain": [
              "<IPython.core.display.Image object>"
            ]
          },
          "metadata": {},
          "output_type": "display_data"
        }
      ],
      "source": [
        "from IPython.display import Image, display\n",
        "display(Image(url=\"https://i.imgur.com/aKcwkSx.png\"))\n",
        "display(Image(url=\"https://i.imgur.com/whB1olq.png\"))\n"
      ]
    },
    {
      "cell_type": "code",
      "execution_count": 37,
      "metadata": {
        "colab": {},
        "colab_type": "code",
        "id": "T3lLFvyZIqui"
      },
      "outputs": [
        {
          "name": "stdout",
          "output_type": "stream",
          "text": [
            "  set_num                        name  year  theme_id  num_parts\n",
            "0   001-1                       Gears  1965         1         43\n",
            "1  0011-2           Town Mini-Figures  1978        84         12\n",
            "2  0011-3  Castle 2 for 1 Bonus Offer  1987       199          0\n",
            "3  0012-1          Space Mini-Figures  1979       143         12\n",
            "4  0013-1          Space Mini-Figures  1979       143         12\n",
            "           set_num                                 name  year  theme_id  \\\n",
            "15705      wwgp1-1  Wild West Limited Edition Gift Pack  1996       476   \n",
            "15706   XMASTREE-1                       Christmas Tree  2019       410   \n",
            "15707      XWING-1                  Mini X-Wing Fighter  2019       158   \n",
            "15708      XWING-2                    X-Wing Trench Run  2019       158   \n",
            "15709  YODACHRON-1      Yoda Chronicles Promotional Set  2013       158   \n",
            "\n",
            "       num_parts  \n",
            "15705          0  \n",
            "15706         26  \n",
            "15707         60  \n",
            "15708         52  \n",
            "15709        413  \n"
          ]
        }
      ],
      "source": [
        "import pandas as pd\n",
        "\n",
        "df = pd.read_csv(\"data/sets.csv\")\n",
        "\n",
        "print(df.head())\n",
        "print(df.tail())\n"
      ]
    },
    {
      "cell_type": "code",
      "execution_count": null,
      "metadata": {
        "colab": {},
        "colab_type": "code",
        "id": "XprDBmzwIquk"
      },
      "outputs": [],
      "source": []
    },
    {
      "cell_type": "markdown",
      "metadata": {
        "colab_type": "text",
        "id": "ez-UXSMUIqum"
      },
      "source": [
        "**Challenge**: In which year were the first LEGO sets released and what were these sets called?"
      ]
    },
    {
      "cell_type": "code",
      "execution_count": 54,
      "metadata": {
        "colab": {},
        "colab_type": "code",
        "id": "s2aL6qrGIqum"
      },
      "outputs": [
        {
          "name": "stdout",
          "output_type": "stream",
          "text": [
            "       set_num                               name  year  theme_id  num_parts\n",
            "9545   700.B-1  Small Doors and Windows Set (ABB)  1949       371         12\n",
            "9521   700.1-1         Extra-Large Gift Set (ABB)  1949       365        142\n",
            "9539   700.3-1              Medium Gift Set (ABB)  1949       365        142\n",
            "9544   700.A-1              Small Brick Set (ABB)  1949       371         24\n",
            "9534   700.2-1               Large Gift Set (ABB)  1949       365        178\n",
            "...        ...                                ...   ...       ...        ...\n",
            "5399   41919-1                     Power Bracelet  2020       688         33\n",
            "8217   60265-1             Ocean Exploration Base  2020        52        495\n",
            "11334  75546-1               Minions in Gru’s Lab  2021       689          0\n",
            "11337  75550-1             Minions Kung Fu Battle  2021       689          0\n",
            "11335  75547-1           Minion Pilot in Training  2021       689          0\n",
            "\n",
            "[15710 rows x 5 columns]\n"
          ]
        }
      ],
      "source": [
        "first_lego = df.sort_values('year', ascending=True)\n",
        "print(first_lego)"
      ]
    },
    {
      "cell_type": "markdown",
      "metadata": {
        "colab_type": "text",
        "id": "JJoK3M8TBAVU"
      },
      "source": [
        "**Challenge**: How many different sets did LEGO sell in their first year? How many types of LEGO products were on offer in the year the company started?"
      ]
    },
    {
      "cell_type": "code",
      "execution_count": 58,
      "metadata": {
        "colab": {},
        "colab_type": "code",
        "id": "h-Tf1w7IBBg9"
      },
      "outputs": [
        {
          "name": "stdout",
          "output_type": "stream",
          "text": [
            "First LEGO sets were released in 1949.\n",
            "\n",
            "      set_num                               name  year  theme_id  num_parts\n",
            "9545  700.B-1  Small Doors and Windows Set (ABB)  1949       371         12\n",
            "9521  700.1-1         Extra-Large Gift Set (ABB)  1949       365        142\n",
            "9539  700.3-1              Medium Gift Set (ABB)  1949       365        142\n",
            "9544  700.A-1              Small Brick Set (ABB)  1949       371         24\n",
            "9534  700.2-1               Large Gift Set (ABB)  1949       365        178\n"
          ]
        }
      ],
      "source": [
        "first_year = first_lego[\"year\"].min()\n",
        "first_lego = first_lego[first_lego[\"year\"] == first_year]\n",
        "\n",
        "# Display the first LEGO sets\n",
        "print(f\"First LEGO sets were released in {first_year}.\\n\")\n",
        "print(first_lego)"
      ]
    },
    {
      "cell_type": "markdown",
      "metadata": {
        "colab_type": "text",
        "id": "RJMMYQYqIquo"
      },
      "source": [
        "**Challenge**: Find the top 5 LEGO sets with the most number of parts. "
      ]
    },
    {
      "cell_type": "code",
      "execution_count": 63,
      "metadata": {
        "colab": {},
        "colab_type": "code",
        "id": "toJvjRuQIqup"
      },
      "outputs": [
        {
          "name": "stdout",
          "output_type": "stream",
          "text": [
            "      set_num                               name  year  theme_id  num_parts\n",
            "9534  700.2-1               Large Gift Set (ABB)  1949       365        178\n",
            "9539  700.3-1              Medium Gift Set (ABB)  1949       365        142\n",
            "9521  700.1-1         Extra-Large Gift Set (ABB)  1949       365        142\n",
            "9544  700.A-1              Small Brick Set (ABB)  1949       371         24\n",
            "9545  700.B-1  Small Doors and Windows Set (ABB)  1949       371         12\n"
          ]
        }
      ],
      "source": [
        "top_lego = first_lego.sort_values('num_parts', ascending=False)\n",
        "print(top_lego.head())"
      ]
    },
    {
      "cell_type": "markdown",
      "metadata": {
        "colab_type": "text",
        "id": "uSyhOzAHIqur"
      },
      "source": [
        "**Challenge**: Use <code>.groupby()</code> and <code>.count()</code> to show the number of LEGO sets released year-on-year. How do the number of sets released in 1955 compare to the number of sets released in 2019? "
      ]
    },
    {
      "cell_type": "code",
      "execution_count": 70,
      "metadata": {
        "colab": {},
        "colab_type": "code",
        "id": "qjdrktZAIqus",
        "scrolled": true
      },
      "outputs": [
        {
          "name": "stdout",
          "output_type": "stream",
          "text": [
            "year\n",
            "1949     5\n",
            "1950     6\n",
            "1953     4\n",
            "1954    14\n",
            "1955    28\n",
            "Name: set_num, dtype: int64\n",
            "year\n",
            "2017    786\n",
            "2018    816\n",
            "2019    840\n",
            "2020    674\n",
            "2021      3\n",
            "Name: set_num, dtype: int64\n"
          ]
        }
      ],
      "source": [
        "group_counts = df.groupby('year').count()\n",
        "print(group_counts['set_num'].head())\n",
        "print(group_counts['set_num'].tail())\n"
      ]
    },
    {
      "cell_type": "markdown",
      "metadata": {
        "colab_type": "text",
        "id": "xJrmIOULIquv"
      },
      "source": [
        "**Challenge**: Show the number of LEGO releases on a line chart using Matplotlib. <br>\n",
        "<br>\n",
        "Note that the .csv file is from late 2020, so to plot the full calendar years, you will have to exclude some data from your chart. Can you use the slicing techniques covered in Day 21 to avoid plotting the last two years? The same syntax will work on Pandas DataFrames. "
      ]
    },
    {
      "cell_type": "code",
      "execution_count": 105,
      "metadata": {
        "colab": {},
        "colab_type": "code",
        "id": "Nckj4lSGIquw"
      },
      "outputs": [
        {
          "data": {
            "image/png": "[encoded data removed]",
            "text/plain": [
              "<Figure size 1200x600 with 1 Axes>"
            ]
          },
          "metadata": {},
          "output_type": "display_data"
        }
      ],
      "source": [
        "import matplotlib.pyplot as plt\n",
        "\n",
        "group_counts_filtered = group_counts.iloc[:-2]\n",
        "\n",
        "plt.figure(figsize=(12, 6))\n",
        "plt.plot(\n",
        "    group_counts_filtered.index,\n",
        "    group_counts_filtered.values,\n",
        "    linestyle='-',\n",
        "    color='b'\n",
        ")\n",
        "\n",
        "# Add labels and title\n",
        "plt.xlabel(\"Year\")\n",
        "plt.ylabel(\"Number of LEGO Sets Released\")\n",
        "plt.title(\"LEGO Sets Released Over the Years (Complete Years Only)\")\n",
        "plt.grid(True)\n",
        "\n",
        "# Show the plot\n",
        "plt.show()\n"
      ]
    },
    {
      "cell_type": "markdown",
      "metadata": {
        "colab_type": "text",
        "id": "xrDeNYYXIqu1"
      },
      "source": [
        "### Aggregate Data with the Python .agg() Function\n",
        "\n",
        "Let's work out the number of different themes shipped by year. This means we have to count the number of unique theme_ids per calendar year."
      ]
    },
    {
      "cell_type": "code",
      "execution_count": 132,
      "metadata": {
        "colab": {},
        "colab_type": "code",
        "dc": {
          "key": "266a3f390c"
        },
        "id": "qx8pTau4Iqu2",
        "tags": [
          "sample_code"
        ]
      },
      "outputs": [
        {
          "name": "stdout",
          "output_type": "stream",
          "text": [
            "Counts Total Rows per Column:\n",
            "\n",
            "      set_num  name  theme_id  num_parts\n",
            "year                                    \n",
            "1949        5     5         5          5\n",
            "1950        6     6         6          6\n",
            "1953        4     4         4          4\n",
            "1954       14    14        14         14\n",
            "1955       28    28        28         28\n",
            "...       ...   ...       ...        ...\n",
            "2017      786   786       786        786\n",
            "2018      816   816       816        816\n",
            "2019      840   840       840        840\n",
            "2020      674   674       674        674\n",
            "2021        3     3         3          3\n",
            "\n",
            "[71 rows x 4 columns]\n",
            "Counts Unique Themes Per Year\n",
            "\n",
            "year\n",
            "1949     2\n",
            "1950     1\n",
            "1953     2\n",
            "1954     2\n",
            "1955     4\n",
            "        ..\n",
            "2017    89\n",
            "2018    93\n",
            "2019    78\n",
            "2020    82\n",
            "2021     1\n",
            "Name: theme_id, Length: 71, dtype: int64\n",
            "nigga\n"
          ]
        }
      ],
      "source": [
        "import pandas as pd\n",
        "\n",
        "# Load sets.csv instead of themes.csv\n",
        "df = pd.read_csv(\"data/sets.csv\")\n",
        "\n",
        "# remember the diffeerence between .groupby('year').count\n",
        "print(\"Counts Total Rows per Column:\\n\")\n",
        "print(df.groupby('year').count())\n",
        "\n",
        "# and here ['theme_id'] is counting each unique theme_id while ('year') can be seen as index\n",
        "print(\"Counts Unique Themes Per Year\\n\")\n",
        "print(df.groupby('year')['theme_id'].nunique())"
      ]
    },
    {
      "cell_type": "code",
      "execution_count": 130,
      "metadata": {
        "colab": {},
        "colab_type": "code",
        "id": "BqF1o997Iqu3"
      },
      "outputs": [
        {
          "name": "stdout",
          "output_type": "stream",
          "text": [
            "Using .agg\n",
            "\n",
            "      nr_themes\n",
            "year           \n",
            "1949          2\n",
            "1950          1\n",
            "1953          2\n",
            "1954          2\n",
            "1955          4\n",
            "...         ...\n",
            "2017         89\n",
            "2018         93\n",
            "2019         78\n",
            "2020         82\n",
            "2021          1\n",
            "\n",
            "[71 rows x 1 columns]\n"
          ]
        }
      ],
      "source": [
        "# using .agg for each columns\n",
        "print(\"Using .agg\\n\")\n",
        "themes_by_year = df.groupby('year').agg({'theme_id': pd.Series.nunique}).rename(columns={'theme_id': 'nr_themes'})\n",
        "print(themes_by_year)"
      ]
    },
    {
      "cell_type": "markdown",
      "metadata": {
        "colab_type": "text",
        "id": "immCqqw1Iqu5"
      },
      "source": [
        "**Challenge**: Plot the number of themes released by year on a line chart. Only include the full calendar years (i.e., exclude 2020 and 2021). "
      ]
    },
    {
      "cell_type": "code",
      "execution_count": 133,
      "metadata": {
        "colab": {},
        "colab_type": "code",
        "id": "r2pamQEkIqu5"
      },
      "outputs": [
        {
          "data": {
            "image/png": "[encoded data removed]",
            "text/plain": [
              "<Figure size 1200x600 with 1 Axes>"
            ]
          },
          "metadata": {},
          "output_type": "display_data"
        }
      ],
      "source": [
        "import matplotlib.pyplot as plt\n",
        "\n",
        "themes_filtered = themes_by_year.iloc[:-2]\n",
        "\n",
        "plt.figure(figsize=(12, 6))\n",
        "plt.plot(\n",
        "    themes_filtered.index,\n",
        "    themes_filtered.values,\n",
        "    linestyle='-',\n",
        "    color='b'\n",
        ")\n",
        "\n",
        "# Add labels and title\n",
        "plt.xlabel(\"Year\")\n",
        "plt.ylabel(\"Number of themes\")\n",
        "plt.title(\"Number of themes per year\")\n",
        "plt.grid(True)\n",
        "\n",
        "# Show the plot\n",
        "plt.show()"
      ]
    },
    {
      "cell_type": "markdown",
      "metadata": {
        "colab_type": "text",
        "id": "uBbt9-lJIqu7"
      },
      "source": [
        "### Line Charts with Two Seperate Axes"
      ]
    },
    {
      "cell_type": "code",
      "execution_count": null,
      "metadata": {
        "colab": {},
        "colab_type": "code",
        "id": "j7lQ_amFIqu7"
      },
      "outputs": [],
      "source": []
    },
    {
      "cell_type": "markdown",
      "metadata": {
        "colab_type": "text",
        "id": "7BHYaUf-Iqu9"
      },
      "source": [
        "**Challenge**: Use the <code>.groupby()</code> and <code>.agg()</code> function together to figure out the average number of parts per set. How many parts did the average LEGO set released in 1954 compared to say, 2017?"
      ]
    },
    {
      "cell_type": "code",
      "execution_count": 143,
      "metadata": {
        "colab": {},
        "colab_type": "code",
        "id": "W7BcH9vuIqu9"
      },
      "outputs": [
        {
          "name": "stdout",
          "output_type": "stream",
          "text": [
            "       num_parts\n",
            "year            \n",
            "1949   99.600000\n",
            "1950    1.000000\n",
            "1953   13.500000\n",
            "1954   12.357143\n",
            "1955   36.607143\n",
            "...          ...\n",
            "2017  221.840967\n",
            "2018  213.618873\n",
            "2019  207.510714\n",
            "2020  259.732938\n",
            "2021    0.000000\n",
            "\n",
            "[71 rows x 1 columns]\n",
            "YEAR 1954: 12.357142857142858\n",
            "YEAR 2017: 221.8409669211196\n"
          ]
        }
      ],
      "source": [
        "# getting the average parts per set so it gives fair comparison between each year\n",
        "mean_parts_num = df.groupby('year').agg({'num_parts': pd.Series.mean})\n",
        "print(mean_parts_num)\n",
        "\n",
        "print(f\"YEAR 1954: {mean_parts_num.loc[1954]['num_parts']}\")\n",
        "print(f\"YEAR 2017: {mean_parts_num.loc[2017]['num_parts']}\")"
      ]
    },
    {
      "cell_type": "code",
      "execution_count": null,
      "metadata": {
        "colab": {},
        "colab_type": "code",
        "id": "fjbb3tZcIqu_"
      },
      "outputs": [],
      "source": []
    },
    {
      "cell_type": "markdown",
      "metadata": {
        "colab_type": "text",
        "id": "bAeTe2XqIqvB"
      },
      "source": [
        "### Scatter Plots in Matplotlib"
      ]
    },
    {
      "cell_type": "markdown",
      "metadata": {
        "colab_type": "text",
        "id": "SAViZ_TYIqvB"
      },
      "source": [
        "**Challenge**: Has the size and complexity of LEGO sets increased over time based on the number of parts? Plot the average number of parts over time using a Matplotlib scatter plot. See if you can use the [scatter plot documentation](https://matplotlib.org/3.1.0/api/_as_gen/matplotlib.pyplot.scatter.html) before I show you the solution. Do you spot a trend in the chart? "
      ]
    },
    {
      "cell_type": "code",
      "execution_count": 145,
      "metadata": {
        "colab": {},
        "colab_type": "code",
        "id": "EQNZ0D7JIqvB"
      },
      "outputs": [
        {
          "data": {
            "image/png": "[encoded data removed]",
            "text/plain": [
              "<Figure size 1200x600 with 1 Axes>"
            ]
          },
          "metadata": {},
          "output_type": "display_data"
        }
      ],
      "source": [
        "import matplotlib.pyplot as plt\n",
        "\n",
        "# Exclude the last two years (assuming they are incomplete)\n",
        "mean_parts_num_filtered = mean_parts_num.iloc[:-2]\n",
        "\n",
        "plt.figure(figsize=(12, 6))\n",
        "plt.scatter(\n",
        "    mean_parts_num_filtered.index,\n",
        "    mean_parts_num_filtered.num_parts,  # Explicitly reference the column\n",
        "    color='b',\n",
        "    alpha=0.5  # Optional: Makes points semi-transparent\n",
        ")\n",
        "\n",
        "# Add labels and title\n",
        "plt.xlabel(\"Year\")\n",
        "plt.ylabel(\"Mean number of parts\")\n",
        "plt.title(\"Mean Number of Parts per Year\")\n",
        "plt.grid(True)\n",
        "\n",
        "# Show the plot\n",
        "plt.show()\n"
      ]
    },
    {
      "cell_type": "markdown",
      "metadata": {
        "colab_type": "text",
        "id": "xK226Ip-IqvE"
      },
      "source": [
        "### Number of Sets per LEGO Theme"
      ]
    },
    {
      "cell_type": "markdown",
      "metadata": {
        "colab_type": "text",
        "id": "VKHa1FePIqvE"
      },
      "source": [
        "LEGO has licensed many hit franchises from Harry Potter to Marvel Super Heros to many others. But which theme has the largest number of individual sets? "
      ]
    },
    {
      "cell_type": "code",
      "execution_count": 150,
      "metadata": {
        "colab": {},
        "colab_type": "code",
        "id": "hOBcNrC9IqvE"
      },
      "outputs": [
        {
          "name": "stdout",
          "output_type": "stream",
          "text": [
            "2020\n",
            "----------\n",
            "\n",
            "259.73293768545994\n"
          ]
        },
        {
          "name": "stderr",
          "output_type": "stream",
          "text": [
            "/var/folders/gb/htxs6lsn7l717xys7y7wf5l80000gn/T/ipykernel_20060/3869327692.py:1: FutureWarning: Series.__getitem__ treating keys as positions is deprecated. In a future version, integer keys will always be treated as labels (consistent with DataFrame behavior). To access a value by position, use `ser.iloc[pos]`\n",
            "  print(mean_parts_num.idxmax()[0])  # Extract the index (year) with the max value\n"
          ]
        }
      ],
      "source": [
        "print(mean_parts_num.idxmax()[0])  # Extract the index (year) with the max value\n",
        "print(\"----------\\n\")\n",
        "print(mean_parts_num.loc[2020, 'num_parts'])  # Get the actual mean parts value for 2020\n"
      ]
    },
    {
      "cell_type": "markdown",
      "metadata": {
        "colab_type": "text",
        "id": "J-i6JULGIqvG"
      },
      "source": [
        "**Challenge** Use what you know about HTML markup and tags to display the database schema: https://i.imgur.com/Sg4lcjx.png"
      ]
    },
    {
      "cell_type": "markdown",
      "metadata": {
        "colab_type": "text",
        "id": "27oDwiPHIqvH"
      },
      "source": []
    },
    {
      "cell_type": "markdown",
      "metadata": {
        "colab_type": "text",
        "id": "J_0iuerKIqvG"
      },
      "source": [
        "### Database Schemas, Foreign Keys and Merging DataFrames\n",
        "\n",
        "The themes.csv file has the actual theme names. The sets .csv has <code>theme_ids</code> which link to the <code>id</code> column in the themes.csv. "
      ]
    },
    {
      "cell_type": "markdown",
      "metadata": {
        "colab_type": "text",
        "id": "cp1tMW6oIqvH"
      },
      "source": [
        "**Challenge**: Explore the themes.csv. How is it structured? Search for the name 'Star Wars'. How many <code>id</code>s correspond to this name in the themes.csv? Now use these <code>id</code>s and find the corresponding the sets in the sets.csv (Hint: you'll need to look for matches in the <code>theme_id</code> column)"
      ]
    },
    {
      "cell_type": "code",
      "execution_count": 154,
      "metadata": {
        "colab": {},
        "colab_type": "code",
        "id": "3uN3wN5sIqvH"
      },
      "outputs": [
        {
          "name": "stdout",
          "output_type": "stream",
          "text": [
            "First 5\n",
            "   id            name  parent_id\n",
            "0   1         Technic        NaN\n",
            "1   2  Arctic Technic        1.0\n",
            "2   3     Competition        1.0\n",
            "3   4  Expert Builder        1.0\n",
            "4   5           Model        1.0\n",
            "\n",
            "Last 5\n",
            "      id                   name  parent_id\n",
            "591  705               Iron Man      696.0\n",
            "592  706             Spider-Man      696.0\n",
            "593  707                  X-Men      696.0\n",
            "594  708  The LEGO Batman Movie      697.0\n",
            "595  709               LEGO Art        NaN\n",
            "17      18\n",
            "150    158\n",
            "174    209\n",
            "211    261\n",
            "Name: id, dtype: int64\n"
          ]
        }
      ],
      "source": [
        "import pandas as pd\n",
        "\n",
        "themes_df = pd.read_csv(\"data/themes.csv\")\n",
        "\n",
        "print(f\"First 5\\n{themes_df.head()}\\n\")\n",
        "print(f\"Last 5\\n{themes_df.tail()}\")\n"
      ]
    },
    {
      "cell_type": "code",
      "execution_count": 163,
      "metadata": {
        "colab": {},
        "colab_type": "code",
        "id": "xAO2XlQGIqvJ"
      },
      "outputs": [
        {
          "name": "stdout",
          "output_type": "stream",
          "text": [
            "[ 18 158 209 261]\n"
          ]
        }
      ],
      "source": [
        "# add .values to exclude index\n",
        "star_wars_id  = themes_df.loc[themes_df['name'] == 'Star Wars', 'id'].values\n",
        "print(star_wars_id)"
      ]
    },
    {
      "cell_type": "code",
      "execution_count": 165,
      "metadata": {
        "colab": {},
        "colab_type": "code",
        "id": "xYEDlY-_IqvL"
      },
      "outputs": [
        {
          "name": "stdout",
          "output_type": "stream",
          "text": [
            "           set_num                                               name  year  \\\n",
            "850        11912-1                Star Wars: Build Your Own Adventure  2016   \n",
            "855        11920-1  Parts for Star Wars Build Your Own Adventure: ...  2019   \n",
            "1717       20006-1                            Clone Turbo Tank - Mini  2008   \n",
            "1728       20007-1                     Republic Attack Cruiser - Mini  2009   \n",
            "1738       20009-1                                AT-TE Walker - Mini  2009   \n",
            "...            ...                                                ...   ...   \n",
            "15686         VP-4            Star Wars Co-Pack of 7101 7111 and 7171  2000   \n",
            "15689         VP-8                 Star Wars Co-Pack of 7130 and 7150  2000   \n",
            "15707      XWING-1                                Mini X-Wing Fighter  2019   \n",
            "15708      XWING-2                                  X-Wing Trench Run  2019   \n",
            "15709  YODACHRON-1                    Yoda Chronicles Promotional Set  2013   \n",
            "\n",
            "       theme_id  num_parts  \n",
            "850         158         73  \n",
            "855         158         70  \n",
            "1717        158         64  \n",
            "1728        158         84  \n",
            "1738        158         94  \n",
            "...         ...        ...  \n",
            "15686       158          0  \n",
            "15689       158          0  \n",
            "15707       158         60  \n",
            "15708       158         52  \n",
            "15709       158        413  \n",
            "\n",
            "[776 rows x 5 columns]\n"
          ]
        }
      ],
      "source": [
        "sets_df = pd.read_csv(\"data/sets.csv\")\n",
        "# sets_df['theme_id'] goes to the theme_id in sets_df and then checks \n",
        "# if start_wars_id is in theme_id and if there it filters from sets_df to create new_df\n",
        "star_wars_sets = sets_df[sets_df['theme_id'].isin(star_wars_id)]\n",
        "print(star_wars_sets)"
      ]
    },
    {
      "cell_type": "code",
      "execution_count": null,
      "metadata": {
        "colab": {},
        "colab_type": "code",
        "id": "qBhckawNIqvN",
        "scrolled": true
      },
      "outputs": [],
      "source": []
    },
    {
      "cell_type": "code",
      "execution_count": null,
      "metadata": {
        "colab": {},
        "colab_type": "code",
        "id": "aqt07DSTIqvP",
        "scrolled": true
      },
      "outputs": [],
      "source": []
    },
    {
      "cell_type": "markdown",
      "metadata": {
        "colab_type": "text",
        "id": "SmTCXWKKIqvQ"
      },
      "source": [
        "### Merging (i.e., Combining) DataFrames based on a Key\n"
      ]
    },
    {
      "cell_type": "code",
      "execution_count": 166,
      "metadata": {
        "colab": {},
        "colab_type": "code",
        "id": "esKQULhcIqvR"
      },
      "outputs": [
        {
          "name": "stdout",
          "output_type": "stream",
          "text": [
            "  set_num                      name_x  year  theme_id  num_parts   id  \\\n",
            "0   001-1                       Gears  1965         1         43    1   \n",
            "1  0011-2           Town Mini-Figures  1978        84         12   84   \n",
            "2  0011-3  Castle 2 for 1 Bonus Offer  1987       199          0  199   \n",
            "3  0012-1          Space Mini-Figures  1979       143         12  143   \n",
            "4  0013-1          Space Mini-Figures  1979       143         12  143   \n",
            "\n",
            "         name_y  parent_id  \n",
            "0       Technic        NaN  \n",
            "1  Supplemental       67.0  \n",
            "2  Lion Knights      186.0  \n",
            "3  Supplemental      126.0  \n",
            "4  Supplemental      126.0  \n"
          ]
        }
      ],
      "source": [
        "# Merge sets_df with themes_df using theme_id (sets_df) and id (themes_df)\n",
        "# left_on and right_on matches the id\n",
        "merged_df = sets_df.merge(themes_df, left_on='theme_id', right_on='id')\n",
        "\n",
        "# Show the first few rows to verify the merge\n",
        "print(merged_df.head())"
      ]
    },
    {
      "cell_type": "code",
      "execution_count": 168,
      "metadata": {
        "colab": {},
        "colab_type": "code",
        "id": "i0LobgIvIqvT"
      },
      "outputs": [
        {
          "name": "stdout",
          "output_type": "stream",
          "text": [
            "year\n",
            "1949     2\n",
            "1950     1\n",
            "1953     2\n",
            "1954     2\n",
            "1955     4\n",
            "        ..\n",
            "2017    89\n",
            "2018    93\n",
            "2019    78\n",
            "2020    82\n",
            "2021     1\n",
            "Name: theme_id, Length: 71, dtype: int64\n"
          ]
        }
      ],
      "source": [
        "# Count unique themes per year\n",
        "themes_per_year = merged_df.groupby('year')['theme_id'].nunique()\n",
        "\n",
        "# Count total sets per year\n",
        "sets_per_year = merged_df.groupby('year')['set_num'].count()\n"
      ]
    },
    {
      "cell_type": "code",
      "execution_count": null,
      "metadata": {
        "colab": {},
        "colab_type": "code",
        "id": "I7UMP7VXIqvU"
      },
      "outputs": [],
      "source": [
        "import matplotlib.pyplot as plt\n",
        "\n",
        "# Create figure\n",
        "fig, ax1 = plt.subplots(figsize=(12, 6))\n",
        "\n",
        "# First y-axis (number of sets)\n",
        "ax1.plot(sets_per_year.index, sets_per_year, color='b', linestyle='-', label=\"Number of Sets\")\n",
        "ax1.set_xlabel(\"Year\")\n",
        "ax1.set_ylabel(\"Number of Sets\", color='b')\n",
        "ax1.tick_params(axis='y', labelcolor='b')\n",
        "\n",
        "# Create a second y-axis for number of themes\n",
        "ax2 = ax1.twinx()  # Share the same x-axis\n",
        "ax2.plot(themes_per_year.index, themes_per_year, color='r', linestyle='-', label=\"Number of Themes\")\n",
        "ax2.set_ylabel(\"Number of Themes\", color='r')\n",
        "ax2.tick_params(axis='y', labelcolor='r')\n",
        "\n",
        "# Add title & grid\n",
        "plt.title(\"Number of LEGO Sets & Themes Released Per Year\")\n",
        "ax1.grid(True)\n",
        "\n",
        "plt.show()\n"
      ]
    }
  ],
  "metadata": {
    "colab": {
      "name": "Lego Analysis for Course (start).ipynb",
      "provenance": []
    },
    "kernelspec": {
      "display_name": "Python 3",
      "language": "python",
      "name": "python3"
    },
    "language_info": {
      "codemirror_mode": {
        "name": "ipython",
        "version": 3
      },
      "file_extension": ".py",
      "mimetype": "text/x-python",
      "name": "python",
      "nbconvert_exporter": "python",
      "pygments_lexer": "ipython3",
      "version": "3.9.6"
    }
  },
  "nbformat": 4,
  "nbformat_minor": 0
}
